{
 "cells": [
  {
   "cell_type": "code",
   "execution_count": 1,
   "id": "21154248-85ee-4e02-96f1-6a40058ead2b",
   "metadata": {},
   "outputs": [
    {
     "name": "stdout",
     "output_type": "stream",
     "text": [
      "Collecting apyori\n",
      "  Downloading apyori-1.1.2.tar.gz (8.6 kB)\n",
      "  Preparing metadata (setup.py): started\n",
      "  Preparing metadata (setup.py): finished with status 'done'\n",
      "Building wheels for collected packages: apyori\n",
      "  Building wheel for apyori (setup.py): started\n",
      "  Building wheel for apyori (setup.py): finished with status 'done'\n",
      "  Created wheel for apyori: filename=apyori-1.1.2-py3-none-any.whl size=5974 sha256=da75c68fffb1e3e64624eb8560a22dda900a85ae2d873183dc560510204efd57\n",
      "  Stored in directory: c:\\users\\sit.lab5\\appdata\\local\\pip\\cache\\wheels\\7f\\49\\e3\\42c73b19a264de37129fadaa0c52f26cf50e87de08fb9804af\n",
      "Successfully built apyori\n",
      "Installing collected packages: apyori\n",
      "Successfully installed apyori-1.1.2\n"
     ]
    }
   ],
   "source": [
    "#Name: Krunal H Dhapodkar PRN: 22070521006\n",
    "!pip install apyori"
   ]
  },
  {
   "cell_type": "code",
   "execution_count": 2,
   "id": "b98fcfbe-02b6-4f6b-9f62-5035f5af4ffc",
   "metadata": {},
   "outputs": [],
   "source": [
    "#Name: Krunal H Dhapodkar PRN: 22070521006\n",
    "import numpy as np\n",
    "import pandas as pd\n",
    "from apyori import apriori"
   ]
  },
  {
   "cell_type": "code",
   "execution_count": 10,
   "id": "c033ad44-fd11-49e9-b07e-207af203a115",
   "metadata": {},
   "outputs": [],
   "source": [
    "#Name: Krunal H Dhapodkar PRN: 22070521006\n",
    "store_data=pd.read_csv('Day1.csv',header=None)"
   ]
  },
  {
   "cell_type": "code",
   "execution_count": 11,
   "id": "745c274a-8300-4997-94d1-d7e46888ff22",
   "metadata": {},
   "outputs": [
    {
     "name": "stdout",
     "output_type": "stream",
     "text": [
      "       0      1      2       3     4      5\n",
      "0   Wine  Chips  Bread  Butter  Milk  Apple\n",
      "1   Wine    NaN  Bread  Butter  Milk    NaN\n",
      "2    NaN    NaN  Bread  Butter  Milk    NaN\n",
      "3    NaN  Chips    NaN     NaN   NaN  Apple\n",
      "4   Wine  Chips  Bread  Butter  Milk  Apple\n",
      "5   Wine  Chips    NaN     NaN  Milk    NaN\n",
      "6   Wine  Chips  Bread  Butter   NaN  Apple\n",
      "7   Wine  Chips    NaN     NaN  Milk    NaN\n",
      "8   Wine    NaN  Bread     NaN   NaN  Apple\n",
      "9   Wine    NaN  Bread  Butter  Milk    NaN\n",
      "10   NaN  Chips  Bread  Butter   NaN  Apple\n",
      "11  Wine    NaN    NaN  Butter  Milk  Apple\n",
      "12  Wine  Chips  Bread  Butter  Milk    NaN\n",
      "13  Wine    NaN  Bread     NaN  Milk  Apple\n",
      "14  Wine    NaN  Bread  Butter  Milk  Apple\n",
      "15  Wine  Chips  Bread  Butter  Milk  Apple\n",
      "16   NaN  Chips  Bread  Butter  Milk  Apple\n",
      "17   NaN  Chips    NaN  Butter  Milk  Apple\n",
      "18  Wine  Chips  Bread  Butter  Milk  Apple\n",
      "19  Wine    NaN  Bread  Butter  Milk  Apple\n",
      "20  Wine  Chips  Bread     NaN  Milk  Apple\n",
      "21   NaN  Chips    NaN     NaN   NaN    NaN\n"
     ]
    }
   ],
   "source": [
    "#Name: Krunal H Dhapodkar PRN: 22070521006\n",
    "print(store_data)"
   ]
  },
  {
   "cell_type": "code",
   "execution_count": 12,
   "id": "f7c83cfc-f68f-49b7-be01-570f7c50cfc5",
   "metadata": {},
   "outputs": [
    {
     "data": {
      "text/plain": [
       "(22, 6)"
      ]
     },
     "execution_count": 12,
     "metadata": {},
     "output_type": "execute_result"
    }
   ],
   "source": [
    "#Name: Krunal H Dhapodkar PRN: 22070521006\n",
    "store_data.shape"
   ]
  },
  {
   "cell_type": "code",
   "execution_count": 13,
   "id": "6194add0-3dd4-4132-b459-c02bafb67896",
   "metadata": {},
   "outputs": [],
   "source": [
    "#Name: Krunal H Dhapodkar PRN: 22070521006\n",
    "records = []\n",
    "for i in range(0,22):\n",
    "    records.append([str(store_data.values[i,j]) for j in range(0,6)])"
   ]
  },
  {
   "cell_type": "code",
   "execution_count": 14,
   "id": "defef377-55a2-47c5-a5a1-0ec192fd1dd0",
   "metadata": {},
   "outputs": [
    {
     "data": {
      "text/plain": [
       "[['Wine', 'Chips', 'Bread', 'Butter', 'Milk', 'Apple'],\n",
       " ['Wine', 'nan', 'Bread', 'Butter', 'Milk', 'nan'],\n",
       " ['nan', 'nan', 'Bread', 'Butter', 'Milk', 'nan'],\n",
       " ['nan', 'Chips', 'nan', 'nan', 'nan', 'Apple'],\n",
       " ['Wine', 'Chips', 'Bread', 'Butter', 'Milk', 'Apple'],\n",
       " ['Wine', 'Chips', 'nan', 'nan', 'Milk', 'nan'],\n",
       " ['Wine', 'Chips', 'Bread', 'Butter', 'nan', 'Apple'],\n",
       " ['Wine', 'Chips', 'nan', 'nan', 'Milk', 'nan'],\n",
       " ['Wine', 'nan', 'Bread', 'nan', 'nan', 'Apple'],\n",
       " ['Wine', 'nan', 'Bread', 'Butter', 'Milk', 'nan'],\n",
       " ['nan', 'Chips', 'Bread', 'Butter', 'nan', 'Apple'],\n",
       " ['Wine', 'nan', 'nan', 'Butter', 'Milk', 'Apple'],\n",
       " ['Wine', 'Chips', 'Bread', 'Butter', 'Milk', 'nan'],\n",
       " ['Wine', 'nan', 'Bread', 'nan', 'Milk', 'Apple'],\n",
       " ['Wine', 'nan', 'Bread', 'Butter', 'Milk', 'Apple'],\n",
       " ['Wine', 'Chips', 'Bread', 'Butter', 'Milk', 'Apple'],\n",
       " ['nan', 'Chips', 'Bread', 'Butter', 'Milk', 'Apple'],\n",
       " ['nan', 'Chips', 'nan', 'Butter', 'Milk', 'Apple'],\n",
       " ['Wine', 'Chips', 'Bread', 'Butter', 'Milk', 'Apple'],\n",
       " ['Wine', 'nan', 'Bread', 'Butter', 'Milk', 'Apple'],\n",
       " ['Wine', 'Chips', 'Bread', 'nan', 'Milk', 'Apple'],\n",
       " ['nan', 'Chips', 'nan', 'nan', 'nan', 'nan']]"
      ]
     },
     "execution_count": 14,
     "metadata": {},
     "output_type": "execute_result"
    }
   ],
   "source": [
    "#Name: Krunal H Dhapodkar PRN: 22070521006\n",
    "records"
   ]
  },
  {
   "cell_type": "code",
   "execution_count": 15,
   "id": "842e1b3d-20aa-47ad-957e-f56940da334e",
   "metadata": {},
   "outputs": [],
   "source": [
    "#Name: Krunal H Dhapodkar PRN: 22070521006\n",
    "association_rules=apriori(records,min_support=0.50, min_confidence=0.7, min_lift=1.2, min_length=2)\n",
    "association_results=list(association_rules)"
   ]
  },
  {
   "cell_type": "code",
   "execution_count": 16,
   "id": "ed85e053-0bc7-416a-8e34-362001716d8e",
   "metadata": {},
   "outputs": [
    {
     "name": "stdout",
     "output_type": "stream",
     "text": [
      "1\n"
     ]
    }
   ],
   "source": [
    "#Name: Krunal H Dhapodkar PRN: 22070521006\n",
    "print(len(association_results))"
   ]
  },
  {
   "cell_type": "code",
   "execution_count": 17,
   "id": "5fcca16d-e2a4-4c86-8114-585710f74da0",
   "metadata": {},
   "outputs": [
    {
     "name": "stdout",
     "output_type": "stream",
     "text": [
      "[RelationRecord(items=frozenset({'Butter', 'Milk', 'Bread'}), support=0.5, ordered_statistics=[OrderedStatistic(items_base=frozenset({'Butter'}), items_add=frozenset({'Milk', 'Bread'}), confidence=0.7333333333333334, lift=1.241025641025641), OrderedStatistic(items_base=frozenset({'Milk', 'Bread'}), items_add=frozenset({'Butter'}), confidence=0.8461538461538461, lift=1.241025641025641)])]\n"
     ]
    }
   ],
   "source": [
    "#Name: Krunal H Dhapodkar PRN: 22070521006\n",
    "print(association_results)"
   ]
  }
 ],
 "metadata": {
  "kernelspec": {
   "display_name": "Python 3 (ipykernel)",
   "language": "python",
   "name": "python3"
  },
  "language_info": {
   "codemirror_mode": {
    "name": "ipython",
    "version": 3
   },
   "file_extension": ".py",
   "mimetype": "text/x-python",
   "name": "python",
   "nbconvert_exporter": "python",
   "pygments_lexer": "ipython3",
   "version": "3.12.7"
  }
 },
 "nbformat": 4,
 "nbformat_minor": 5
}
